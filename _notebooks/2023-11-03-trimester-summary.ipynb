{
 "cells": [
  {
   "cell_type": "markdown",
   "metadata": {},
   "source": [
    "---\n",
    "toc: true\n",
    "comments: false\n",
    "categories: [5.A, C4.1]\n",
    "layout: post\n",
    "title: trimester summary\n",
    "description: summary of trimester\n",
    "type: tangibles\n",
    "courses: { compsci: {week: 11} }\n",
    "categories: [(4.1)]\n",
    "---"
   ]
  },
  {
   "cell_type": "markdown",
   "metadata": {},
   "source": [
    "# first 5 weeks\n",
    "At the start of the trimester I prepared my digital notebook along with any programs that were necesary to program.\n",
    "used python to create hacks and tools.\n",
    "learned how to program ipynb programs.\n",
    "learned about data types.\n",
    "learned the basics of JavaScript.\n",
    "\n",
    "# last 7 weeks\n",
    "learned to make apis\n",
    "learned the different roles and their significance such as scrum master, frontend, and backend\n",
    "learned different alorithms and programmings\n",
    "taught to the class about developing alorgithms\n",
    "learned how to do simple operators in js, iterating, and randomization\n",
    "learned how to include data from 3rd party website \n",
    "used fetch(apiUrl)\n",
    "used this data to then display the amount of likes and id of recipes \n",
    "\n",
    "# future learning\n",
    "In the next two trimesters I hope to learn to advance my understanding of JavaScript. I hope to create games using JS and also learn more about api keys and data strategies. Work more efficiently and focus more in class.\n",
    "\n",
    "\n",
    "\n",
    "\n"
   ]
  }
 ],
 "metadata": {
  "language_info": {
   "name": "python"
  }
 },
 "nbformat": 4,
 "nbformat_minor": 2
}
