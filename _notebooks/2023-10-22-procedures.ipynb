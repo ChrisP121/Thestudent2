{
 "cells": [
  {
   "cell_type": "code",
   "execution_count": null,
   "metadata": {},
   "outputs": [],
   "source": [
    "def calculate_rectangle_area(length, width):\n",
    "    area = length * width\n",
    "    return area\n",
    "\n",
    "length = 6\n",
    "width = 4\n",
    "area_of_rectangle = calculate_rectangle_area(length, width)-\n",
    "print(\"The area of the rectangle is:\", area_of_rectangle)\n"
   ]
  },
  {
   "cell_type": "code",
   "execution_count": null,
   "metadata": {},
   "outputs": [],
   "source": [
    "def summing_machine(first_number, second_number):\n",
    "    sum_result = first_number + second_number\n",
    "    return sum_result\n",
    "\n",
    "result = summing_machine(7, 5)\n",
    "print(\"The sum of 7 and 5 is:\", result)\n"
   ]
  }
 ],
 "metadata": {
  "language_info": {
   "name": "python"
  }
 },
 "nbformat": 4,
 "nbformat_minor": 2
}
