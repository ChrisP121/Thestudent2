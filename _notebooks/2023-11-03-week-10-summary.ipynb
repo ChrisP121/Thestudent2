{
 "cells": [
  {
   "cell_type": "markdown",
   "metadata": {},
   "source": [
    "---\n",
    "toc: true\n",
    "comments: false\n",
    "categories: [5.A, C4.1]\n",
    "layout: post\n",
    "title: week 10 summary\n",
    "description: summary from week 10\n",
    "type: tangibles\n",
    "courses: { compsci: {week: 10} }\n",
    "categories: [(4.1)]\n",
    "---"
   ]
  },
  {
   "cell_type": "markdown",
   "metadata": {},
   "source": [
    "#tasks\n",
    "finish up the passion project backend \n",
    "finish grading the homework from team teaching                              \n",
    "\n",
    "#week 10\n",
    "This week we learned from classmates how to develop different code. The most challenging code for me were iterations and trying to understand when to use the variable \"i\". I eventually solved this problem by using \"i\" as the iterated index. The easiest lesson was developing procedures and just using addition to solve mathematical problems."
   ]
  }
 ],
 "metadata": {
  "language_info": {
   "name": "python"
  }
 },
 "nbformat": 4,
 "nbformat_minor": 2
}
