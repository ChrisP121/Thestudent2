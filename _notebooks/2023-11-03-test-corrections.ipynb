{
 "cells": [
  {
   "cell_type": "markdown",
   "metadata": {},
   "source": [
    "---\n",
    "toc: true\n",
    "comments: false\n",
    "categories: [5.A, C4.1]\n",
    "layout: post\n",
    "title: test corrections\n",
    "description: test corrections\n",
    "type: tangibles\n",
    "courses: { compsci: {week: 11} }\n",
    "categories: [(4.1)]\n",
    "--- "
   ]
  },
  {
   "cell_type": "markdown",
   "metadata": {},
   "source": [
    "## correcting answers\n",
    "question 7 identifying which variables start, end, and are current, finding the result of executing the program, I chose letter \"B\" which was 3 but the correct answer was \"C\" which was 4 because taking the current number which is 3 and adding 1 due to the current+1, I will get the number 4\n",
    "question 21 selecting which code segment will move the robot to the gray square I chose letter \"D\" which was MoveXTimes 3, MoveRightTimes 3, and MoveXTimes3. The correct answer is A which is MoveXTimes 2, MoveRightTimes 1, MoveXTimes 3\n",
    "question 46 selecting which problem is considered an undecidable problem, I chose \"C\" \"It is possible to create an algorithm that will solve the problem for all programs and inputs, but the algorithm will not run in reasonable time.\" the correct answer was \"It is possible to create an algorithm that will solve the problem for all programs and inputs, but the algorithm requires simultaneous execution on multiple CPUs.\" "
   ]
  }
 ],
 "metadata": {
  "language_info": {
   "name": "python"
  }
 },
 "nbformat": 4,
 "nbformat_minor": 2
}
