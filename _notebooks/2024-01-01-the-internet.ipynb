{
 "cells": [
  {
   "cell_type": "markdown",
   "metadata": {},
   "source": [
    "Bandwidth:\n",
    "\n",
    "Concept: Bandwidth in computer networks refers to the data transfer rate or capacity of a communication channel. It influences the speed and efficiency of data transfer.\n",
    "Influence on Speed: Higher bandwidth allows for faster data transfer, while lower bandwidth may result in slower transfer speeds.\n",
    "Impact Scenarios:\n",
    "High Bandwidth: Enables smooth streaming, fast downloads, and quick webpage loading.\n",
    "Low Bandwidth: Sluggish internet, buffering in streaming, and delayed downloads.\n",
    "Computer Network:\n",
    "2. Components:\n",
    "\n",
    "Key Components: Nodes (devices), links (communication channels), and routers/switches (for routing data).\n",
    "Interplay: Nodes communicate through links, and routers facilitate data routing between different nodes.\n",
    "Significance:\n",
    "Scalability: Enables network growth without compromising performance.\n",
    "Security: Protects data from unauthorized access.\n",
    "Reliability: Ensures consistent and dependable network performance.\n",
    "Examples:\n",
    "LAN (Local Area Network): Used in offices for internal communication.\n",
    "WAN (Wide Area Network): Connects geographically dispersed networks, like connecting branch offices.\n",
    "Packet Switching:\n",
    "3. Role: Packet switching is a method of data transmission where information is broken into packets and sent independently across a network. Contrasted with circuit switching.\n",
    "\n",
    "Advantages:\n",
    "Efficient Use of Resources: Network resources are shared dynamically.\n",
    "Robustness: If a path is unavailable, packets can take alternative routes.\n",
    "Comparison with Circuit Switching:\n",
    "Circuit Switching: Dedicated path for entire communication, less flexible.\n",
    "Packet Switching: Breaks data into packets, more adaptable and efficient.\n",
    "Journey of a Data Packet:\n",
    "Packet creation, addressing, routing through nodes, and reassembly at the destination."
   ]
  }
 ],
 "metadata": {
  "language_info": {
   "name": "python"
  }
 },
 "nbformat": 4,
 "nbformat_minor": 2
}
