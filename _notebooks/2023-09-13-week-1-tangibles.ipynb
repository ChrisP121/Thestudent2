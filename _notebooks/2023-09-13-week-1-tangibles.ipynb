{
 "cells": [
  {
   "cell_type": "code",
   "execution_count": null,
   "metadata": {},
   "outputs": [],
   "source": [
    "---\n",
    "toc: true\n",
    "comments: false\n",
    "categories: [5.A, C4.1]\n",
    "layout: post\n",
    "title: week 1 summary\n",
    "description: summary from week 1\n",
    "type: tangibles\n",
    "courses: { compsci: {week: 1} }\n",
    "categories: [(4.1)]\n",
    "---"
   ]
  }
 ],
 "metadata": {
  "language_info": {
   "name": "python"
  },
  "orig_nbformat": 4
 },
 "nbformat": 4,
 "nbformat_minor": 2
}
