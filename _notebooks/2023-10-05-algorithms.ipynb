{
 "cells": [
  {
   "cell_type": "code",
   "execution_count": null,
   "metadata": {},
   "outputs": [],
   "source": [
    "def quicksort(arr):\n",
    "    if len(arr) <= 1:\n",
    "        return arr\n",
    "\n",
    "    pivot = arr[len(arr) // 2]\n",
    "    left = [x for x in arr if x < pivot]\n",
    "    middle = [x for x in arr if x == pivot]\n",
    "    right = [x for x in arr if x > pivot]\n",
    "\n",
    "    return quicksort(left) + middle + quicksort(right)\n",
    "\n",
    "names = [\"Peyton\", \"Aiden\", \"Tim\", \"Sam\", \"Bob\"]\n",
    "\n",
    "sorted_names = quicksort(names)\n",
    "print(\"Sorted Names:\", sorted_names)\n"
   ]
  },
  {
   "cell_type": "code",
   "execution_count": null,
   "metadata": {},
   "outputs": [],
   "source": [
    "def is_palindrome(input_string):\n",
    "    cleaned_string = input_string.replace(\" \", \"\").lower()\n",
    "    \n",
    "    return cleaned_string == cleaned_string[::-1]\n",
    "\n",
    "user_input = input(\"Enter a string: \")\n",
    "\n",
    "if is_palindrome(user_input):\n",
    "    print(\"The input is a palindrome.\")\n",
    "else:\n",
    "    print(\"The input is not a palindrome.\")\n"
   ]
  }
 ],
 "metadata": {
  "language_info": {
   "name": "python"
  }
 },
 "nbformat": 4,
 "nbformat_minor": 2
}
