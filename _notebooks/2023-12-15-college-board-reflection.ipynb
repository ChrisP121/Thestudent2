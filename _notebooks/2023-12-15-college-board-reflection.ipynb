{
 "cells": [
  {
   "cell_type": "markdown",
   "metadata": {},
   "source": [
    "---\n",
    "toc: true\n",
    "comments: false\n",
    "categories: [5.A, C4.1]\n",
    "layout: post\n",
    "title: cb quiz\n",
    "description: college board quiz reflection\n",
    "type: tangibles\n",
    "courses: { compsci: {week: 12} }\n",
    "categories: [(4.1)]\n",
    "---"
   ]
  },
  {
   "cell_type": "markdown",
   "metadata": {},
   "source": [
    "# wrong answers\n",
    "Q5: The diagram below shows a circuit composed of three logic gates. Each gate takes two inputs and produces a single output.\n",
    "\n",
    "The figure presents a circuit composed of three logic gates. The first gate is labeled OR and has inputs A and B. The second gate is labeled AND, and has inputs C and D. The third gate is labeled AND. The inputs to the third gate are the outputs of the first two gates. The output of the circuit is labeled output.\n",
    "For which of the following input values will the circuit have an output of true ?\n",
    "\n",
    "my answer: A = true,  B = true,  C = true,  D = false\n",
    "right answer: A = false, B = true,  C = true,  D = true\n",
    "\n",
    "Q11: A color in a computing application is represented by an RGB triplet that describes the amount of red, green, and blue, respectively, used to create the desired color. A selection of colors and their corresponding RGB triplets are shown in the following table. Each value is represented in decimal (base 10).\n",
    "\n",
    "Color Name\tRGB Triplet\n",
    "indigo\t (75,   0, 130)\n",
    "ivory\t(255, 255, 240)\n",
    "light pink\t(255, 182, 193)​\n",
    "light yellow\t(255, 255, 224)\n",
    "magenta\t(255,   0, 255)\n",
    "neutral gray\t(127, 127, 112)\n",
    "pale yellow\t(255, 255, 160)\n",
    "vivid yellow\t(255, 255,  14)\n",
    "According to information in the table, what color is represented by the binary RGB triplet (11111111, 11111111, 11110000)?\n",
    "\n",
    "my answer: Light yellow\n",
    "right answer: Ivory\n",
    "\n",
    "Q23: A flowchart is a way to visually represent an algorithm. The flowchart below is used by an application to set the Boolean variable available to true under certain conditions. The flowchart uses the Boolean variable weekday and the integer variable miles.\n",
    "\n",
    "Block\tExplanation\n",
    "Oval\tThe start or end of the algorithm\n",
    "Diamond\tA conditional or decision step, where execution proceeds to the side labeled true if the condition is true and to the side labeled false otherwise\n",
    "Rectangle\tOne or more processing steps, such as a statement that assigns a value to a variable\n",
    "The figure presents a flow chart of an algorithm. Beginning at the top of the flow chart, the algorithm begins with a step labeled Start, which flows into a conditional step labeled weekday = true. If the condition labeled weekday = true is true, the process flows into another conditional step labeled miles are less than 20. If the condition labeled weekday = true is false, the process flows into a processing step labeled available ← false. If the conditional step labeled miles are less than 20 is true, the process flows into a processing step labeled available ← true. If the conditional step labeled miles are less than 20 is false the process flows into the processing step available ← false. Both processing steps, available ← true and available ← false flow to the end of the algorithm.\n",
    "Which of the following statements is equivalent to the algorithm in the flowchart?\n",
    "\n",
    "my answer: B\n",
    "right answer: D"
   ]
  }
 ],
 "metadata": {
  "language_info": {
   "name": "python"
  }
 },
 "nbformat": 4,
 "nbformat_minor": 2
}
