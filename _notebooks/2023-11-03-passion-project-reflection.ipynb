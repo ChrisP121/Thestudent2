{
 "cells": [
  {
   "cell_type": "markdown",
   "metadata": {},
   "source": [
    "---\n",
    "toc: true\n",
    "comments: false\n",
    "categories: [5.A, C4.1]\n",
    "layout: post\n",
    "title: team teaching summary\n",
    "description: summary from team teaching\n",
    "type: tangibles\n",
    "courses: { compsci: {week: 11} }\n",
    "categories: [(4.1)]\n",
    "---"
   ]
  },
  {
   "cell_type": "markdown",
   "metadata": {},
   "source": [
    "This week I worked on the passion project. A problem that I faced when completing this project is incorporating 3rd party api data into our website. Aspects such as the like counter and recipe id was taken from a 3rd party website. This problem was eventually resolved when I inserted const apiurl.  "
   ]
  }
 ],
 "metadata": {
  "language_info": {
   "name": "python"
  }
 },
 "nbformat": 4,
 "nbformat_minor": 2
}
