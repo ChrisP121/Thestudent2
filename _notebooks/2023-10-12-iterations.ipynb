{
 "cells": [
  {
   "cell_type": "code",
   "execution_count": null,
   "metadata": {},
   "outputs": [],
   "source": [
    "def fibonacci(n):\n",
    "    if n <= 0:\n",
    "        return 0  \n",
    "    elif n == 1:\n",
    "        return 1  \n",
    "    else:\n",
    "        return fibonacci(n - 1) + fibonacci(n - 2)\n"
   ]
  },
  {
   "cell_type": "code",
   "execution_count": null,
   "metadata": {},
   "outputs": [],
   "source": [
    "def aspects_of_life(aspects_list):\n",
    "    if not aspects_list:\n",
    "        return  \n",
    "    else:\n",
    "        aspect = aspects_list.pop(0)  \n",
    "        print(\"One aspect of my life is:\", aspect)\n",
    "        aspects_of_life(aspects_list)  \n",
    "my_life = [\"family\", \"work\", \"hobbies\", \"health\", \"friends\"]\n",
    "\n",
    "aspects_of_life(my_life)\n"
   ]
  }
 ],
 "metadata": {
  "language_info": {
   "name": "python"
  }
 },
 "nbformat": 4,
 "nbformat_minor": 2
}
