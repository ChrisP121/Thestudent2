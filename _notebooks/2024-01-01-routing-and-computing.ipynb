{
 "cells": [
  {
   "cell_type": "markdown",
   "metadata": {},
   "source": [
    "Fault Tolerance:\n",
    "Fault Tolerant Flowchart:\n",
    "\n",
    "Use redundant components and paths.\n",
    "Implement error detection and correction mechanisms.\n",
    "Include backup systems for critical processes.\n",
    "Non-Fault Tolerant Flowchart:\n",
    "\n",
    "Single points of failure without redundancy.\n",
    "Lack of error detection and correction.\n",
    "No backup systems in place.\n",
    "Parallel and Distributed Computing:\n",
    "Sequential Code:"
   ]
  },
  {
   "cell_type": "code",
   "execution_count": null,
   "metadata": {},
   "outputs": [],
   "source": [
    "for i in range(10):\n",
    "    # Sequential operations\n",
    "    print(i)\n"
   ]
  },
  {
   "cell_type": "code",
   "execution_count": null,
   "metadata": {},
   "outputs": [],
   "source": [
    "import multiprocessing\n",
    "\n",
    "def parallel_task(i):\n",
    "    # Parallel operations\n",
    "    print(i)\n",
    "\n",
    "if __name__ == '__main__':\n",
    "    with multiprocessing.Pool() as pool:\n",
    "        pool.map(parallel_task, range(10))\n"
   ]
  }
 ],
 "metadata": {
  "language_info": {
   "name": "python"
  }
 },
 "nbformat": 4,
 "nbformat_minor": 2
}
