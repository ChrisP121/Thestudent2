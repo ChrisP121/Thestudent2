{
 "cells": [
  {
   "cell_type": "markdown",
   "metadata": {},
   "source": [
    "---\n",
    "toc: true\n",
    "comments: true\n",
    "categories: [5.A, C4.1]\n",
    "layout: post\n",
    "title: Web programing summary\n",
    "description: summary for web programing\n",
    "type: tangibles\n",
    "courses: { compsci: {week: 5} }\n",
    "categories: [(4.1)]\n",
    "--- "
   ]
  },
  {
   "cell_type": "markdown",
   "metadata": {},
   "source": [
    "HTML Element Wireframe: Initially, I discussed the concept of wireframes and provided a textual representation of an HTML navigation menu bar wireframe.\n",
    "\n",
    "HTML Code Snippet: I created an HTML code snippet for the navigation menu bar based on the wireframe, including HTML and CSS.\n",
    "\n",
    "JavaScript Comparison: I wrote JavaScript code to compare two variables a and b, logging whether one is greater than the other or if they are equal. I also performed mathematical operations and used typeof to determine variable types.\n",
    "\n",
    "Segment 1: Alphabet List: I corrected JavaScript code to create a list of characters from the alphabet string and printed the resulting array.\n",
    "\n",
    "Segment 2: Numbered Alphabet: I fixed JavaScript code to print the position of a given alphabet letter within the alphabet and provided a corrected code snippet.\n",
    "\n",
    "Segment 3: Odd Numbers: I corrected JavaScript code to generate and print an array of odd numbers below 10.\n"
   ]
  }
 ],
 "metadata": {
  "language_info": {
   "name": "python"
  },
  "orig_nbformat": 4
 },
 "nbformat": 4,
 "nbformat_minor": 2
}
