{
 "cells": [
  {
   "cell_type": "markdown",
   "metadata": {},
   "source": [
    "---\n",
    "toc: true\n",
    "comments: false\n",
    "categories: [5.A, C4.1]\n",
    "layout: post\n",
    "title: week 11 summary\n",
    "description: summary from week 11\n",
    "type: tangibles\n",
    "courses: { compsci: {week: 11} }\n",
    "categories: [(4.1)]\n",
    "---"
   ]
  },
  {
   "cell_type": "markdown",
   "metadata": {},
   "source": [
    "#task\n",
    "present the passion project at the N@M\n",
    "finish the college board quiz\n",
    "\n",
    "#week 11 \n",
    "This week I worked on the passion project. A problem that I faced when completing this project is incorporating 3rd party api data into our website. Aspects such as the like counter and recipe id was taken from a 3rd party website. This problem was eventually resolved when I inserted const apiurl.  \n",
    "\n",
    "#notes\n",
    "Use the “+” operator to add two numbers in JavaScript\n",
    "\n",
    "Use the “-“ operator to subtract two numbers in JavaScript\n",
    "\n",
    "Use the “*” operator to multiply two numbers in JavaScript\n",
    "\n",
    "Use the “/” operator to divide two numbers in JavaScript\n",
    "\n",
    "Use the “%” operator to get the remainder of a division operation in JavaScript\n",
    "\n",
    "Raandomization is used to generate a random number. For example, RANDOM(a,b) would generate any number from a to b. Each result from randomization is equally likely to occur. Each execution might produce a different result."
   ]
  },
  {
   "cell_type": "code",
   "execution_count": null,
   "metadata": {},
   "outputs": [],
   "source": [
    "def bubbleSort(arr):\n",
    "    n = len(arr)\n",
    "    swapped = False  # a boolean to keep track of whether a swap has occurred.\n",
    "    for i in range(n-1):  # a loop to go iterate through the entire array\n",
    "        for j in range(0, n-i-1):  # loop to compare adjacent elements\n",
    "            if arr[j] > arr[j + 1]:\n",
    "                # if current element is greater than the next element then swap them\n",
    "                swapped = True\n",
    "                arr[j], arr[j + 1] = arr[j + 1], arr[j]\n",
    "        if not swapped:\n",
    "            # if no swaps happen then the array is sorted\n",
    "            return\n",
    "arr = [64, 34, 25, 12, 22, 11, 90]\n",
    "bubbleSort(arr)  # call the function to sort the array\n",
    "print(\"Sorted array is:\")\n",
    "for i in range(len(arr)):\n",
    "    print(\"%d\" % arr[i], end=\" \") "
   ]
  }
 ],
 "metadata": {
  "language_info": {
   "name": "python"
  }
 },
 "nbformat": 4,
 "nbformat_minor": 2
}
