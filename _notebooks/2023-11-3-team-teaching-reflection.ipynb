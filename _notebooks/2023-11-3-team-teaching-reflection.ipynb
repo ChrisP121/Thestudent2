{
 "cells": [
  {
   "cell_type": "markdown",
   "metadata": {},
   "source": [
    "---\n",
    "toc: true\n",
    "comments: false\n",
    "categories: [5.A, C4.1]\n",
    "layout: post\n",
    "title: week 11 summary\n",
    "description: summary from week 11\n",
    "type: tangibles\n",
    "courses: { compsci: {week: 11} }\n",
    "categories: [(4.1)]\n",
    "---"
   ]
  },
  {
   "cell_type": "markdown",
   "metadata": {},
   "source": [
    "# task\n",
    "present the passion project at the N@M\n",
    "finish the college board quiz\n",
    "\n",
    "# week 11 \n",
    "This week I worked on the passion project. A problem that I faced when completing this project is incorporating 3rd party api data into our website. Aspects such as the like counter and recipe id was taken from a 3rd party website. This problem was eventually resolved when I inserted const apiurl.  \n",
    "\n",
    "# notes\n",
    "const apiUrl = `https://api.spoonacular.com/recipes/findByIngredients?apiKey=${apiKey}&ingredients=${ingredients}`;\n",
    "\n",
    "data transfered from a 3rd party website to our own\n",
    "\n",
    "<form id=\"recipeForm\">\n",
    "        <label for=\"ingredients\">Enter ingredients (comma-separated):</label>\n",
    "        <input type=\"text\" name=\"ingredients\" id=\"ingredients\" required>\n",
    "        <input type=\"submit\" value=\"Find Recipes\">\n",
    "\n",
    "this code allows specific data from the 3rd party website to be transfered to our website\n",
    "\n"
   ]
  }
 ],
 "metadata": {
  "language_info": {
   "name": "python"
  }
 },
 "nbformat": 4,
 "nbformat_minor": 2
}
