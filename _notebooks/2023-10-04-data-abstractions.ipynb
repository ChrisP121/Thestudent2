{
 "cells": [
  {
   "cell_type": "code",
   "execution_count": null,
   "metadata": {},
   "outputs": [],
   "source": [
    "num1Int = 5\n",
    "num2Int = 10\n",
    "\n",
    "sum_result = num1Int + num2Int\n",
    "\n",
    "print(\"The sum of num1Int and num2Int is:\", sum_result)\n"
   ]
  },
  {
   "cell_type": "code",
   "execution_count": null,
   "metadata": {},
   "outputs": [],
   "source": [
    "float1 = 3.0\n",
    "float2 = 1.5\n",
    "\n",
    "quotient = float1 / float2\n",
    "\n",
    "print(\"The quotient of float1 and float2 is:\", quotient)\n"
   ]
  },
  {
   "cell_type": "code",
   "execution_count": null,
   "metadata": {},
   "outputs": [],
   "source": [
    "message = \"Hello, {}! How are you doing, {}?\"\n",
    "\n",
    "name1 = \"Tim\"\n",
    "name2 = \"Bob\"\n",
    "\n",
    "print(message.format(name1, name2))\n"
   ]
  },
  {
   "cell_type": "code",
   "execution_count": null,
   "metadata": {},
   "outputs": [],
   "source": [
    "user_name = input(\"What is your name? \")\n",
    "\n",
    "greeting = \"Hello, {}! Welcome.\".format(user_name)\n",
    "\n",
    "print(greeting)\n"
   ]
  }
 ],
 "metadata": {
  "language_info": {
   "name": "python"
  }
 },
 "nbformat": 4,
 "nbformat_minor": 2
}
