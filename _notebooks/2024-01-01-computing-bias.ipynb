{
 "cells": [
  {
   "cell_type": "markdown",
   "metadata": {},
   "source": [
    "Question 1:\n",
    "Definition: Computer bias refers to the presence of unfair or prejudiced outcomes in software applications, where certain groups or individuals may be favored or disadvantaged.\n",
    "\n",
    "Causes: Bias can result from intentional decisions made during software development, reflecting the developer's preferences or prejudices. Unintentional bias may arise from incomplete or biased datasets used to train algorithms.\n",
    "\n",
    "Example: If a hiring algorithm is trained on historical data that reflects biased hiring practices, such as gender or racial biases, it can perpetuate these biases by recommending candidates based on flawed criteria.\n",
    "\n",
    "Reducing Bias: Programmers can actively reduce bias by using diverse and representative datasets, regularly auditing algorithms for fairness, and incorporating ethical considerations into the development process.\n",
    "\n",
    "Question 2:\n",
    "Types of Bias:\n",
    "\n",
    "Algorithmic Bias: Results from biased algorithms or models.\n",
    "Data Bias: Arises from biased datasets used for training.\n",
    "Examples:\n",
    "\n",
    "Gaming Industry: If a game character's behavior is based on stereotypes, it perpetuates cultural biases, affecting the gaming experience for players.\n",
    "\n",
    "Social Media Platforms: Bias in content recommendation algorithms may lead to the reinforcement of existing beliefs, creating echo chambers and limiting exposure to diverse perspectives.\n",
    "\n",
    "Impact on User Engagement:\n",
    "Biases in software design can lead to unequal treatment, alienating certain user groups. Users may disengage if they feel unfairly treated or if the software does not cater to their needs, ultimately impacting user experiences."
   ]
  }
 ],
 "metadata": {
  "language_info": {
   "name": "python"
  }
 },
 "nbformat": 4,
 "nbformat_minor": 2
}
