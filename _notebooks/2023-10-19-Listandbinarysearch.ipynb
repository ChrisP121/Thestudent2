{
 "cells": [
  {
   "cell_type": "code",
   "execution_count": null,
   "metadata": {},
   "outputs": [],
   "source": [
    "# Create a list of numbers\n",
    "numbers = [1, 2, 3, 4, 5]\n",
    "\n",
    "# Access and print the third element (index 2) from the list\n",
    "print(numbers[2])  # Output: 3\n",
    "\n",
    "# Modify the first element (index 0) of the list\n",
    "numbers[0] = 10\n",
    "\n",
    "# Append a new element to the end of the list\n",
    "numbers.append(6)\n",
    "\n",
    "# Print the updated list\n",
    "print(numbers)  # Output: [10, 2, 3, 4, 5, 6]\n"
   ]
  },
  {
   "cell_type": "code",
   "execution_count": null,
   "metadata": {},
   "outputs": [],
   "source": [
    "worst_case_iterations = log2(n) + 1\n"
   ]
  },
  {
   "cell_type": "code",
   "execution_count": null,
   "metadata": {},
   "outputs": [],
   "source": [
    "worst_case_iterations = log2(20) + 1\n",
    "worst_case_iterations ≈ 5.3219 + 1\n",
    "worst_case_iterations ≈ 6.3219\n"
   ]
  },
  {
   "cell_type": "code",
   "execution_count": null,
   "metadata": {},
   "outputs": [],
   "source": [
    "C) [10, 40, 30, 20, 50]\n"
   ]
  }
 ],
 "metadata": {
  "language_info": {
   "name": "python"
  }
 },
 "nbformat": 4,
 "nbformat_minor": 2
}
